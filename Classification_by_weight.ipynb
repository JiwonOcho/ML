{
  "nbformat": 4,
  "nbformat_minor": 0,
  "metadata": {
    "colab": {
      "provenance": [],
      "include_colab_link": true
    },
    "kernelspec": {
      "name": "python3",
      "display_name": "Python 3"
    },
    "language_info": {
      "name": "python"
    }
  },
  "cells": [
    {
      "cell_type": "markdown",
      "metadata": {
        "id": "view-in-github",
        "colab_type": "text"
      },
      "source": [
        "<a href=\"https://colab.research.google.com/github/JiwonOcho/ML-DL/blob/main/FNN_Classification_by_weight.ipynb\" target=\"_parent\"><img src=\"https://colab.research.google.com/assets/colab-badge.svg\" alt=\"Open In Colab\"/></a>"
      ]
    },
    {
      "cell_type": "code",
      "execution_count": null,
      "metadata": {
        "id": "-yVF7otV7jmo"
      },
      "outputs": [],
      "source": [
        "import numpy as np\n",
        "import os\n",
        "import random\n",
        "from matplotlib import pyplot as plt"
      ]
    },
    {
      "cell_type": "code",
      "source": [
        "# 데이터를 떠먹여 줄 클래스를 제작합니다.\n",
        "class DataReader():\n",
        "    def __init__(self):\n",
        "        # 데이터를 저장할 변수들입니다.\n",
        "        self.train_X, self.train_Y, self.test_X, self.test_Y = self.read_data()\n",
        "\n",
        "        # 데이터 읽기가 완료되었습니다.\n",
        "        # 읽어온 데이터의 정보를 출력합니다.\n",
        "        print(\"\\n\\nData Read Done!\")\n",
        "        print(\"Training X Size : \" + str(self.train_X.shape))\n",
        "        print(\"Training Y Size : \" + str(self.train_Y.shape))\n",
        "        print(\"Test X Size : \" + str(self.test_X.shape))\n",
        "        print(\"Test Y Size : \" + str(self.test_Y.shape) + '\\n\\n')\n",
        "\n",
        "    # 데이터를 읽어오기 위한 매서드입니다.\n",
        "    def read_data(self):\n",
        "        # 파일을 실행합니다.\n",
        "        filename = os.listdir(\"data\")[0]\n",
        "        file = open(\"data/\" + filename, encoding=\"utf8\") # <====\n",
        "\n",
        "        # 헤더를 제거합니다.\n",
        "        file.readline()\n",
        "\n",
        "        # 데이터와 레이블을 저장하기 위한 변수입니다.\n",
        "        data = []\n",
        "\n",
        "        # 파일을 한 줄씩 읽어옵니다.\n",
        "        for line in file:\n",
        "            # 컴마를 기준으로 split()을 실행합니다.\n",
        "            splt = line.split(\",\")\n",
        "\n",
        "            # split 결과물을 정리해 X값과 Y값으로 추립니다.\n",
        "            x, cls = self.process_data(splt)\n",
        "\n",
        "            # 추려낸 데이터를 저장합니다.\n",
        "            data.append((x, cls))\n",
        "\n",
        "        # 데이터를 섞습니다\n",
        "        random.shuffle(data)\n",
        "\n",
        "        X = []\n",
        "        Y = []\n",
        "\n",
        "        for el in data:\n",
        "            X.append(el[0])\n",
        "            Y.append(el[1])\n",
        "\n",
        "        X = np.asarray(X)\n",
        "        Y = np.asarray(Y)\n",
        "\n",
        "        train_X = X[:int(len(X) * 0.8)]\n",
        "        train_Y = Y[:int(len(Y) * 0.8)]\n",
        "        test_X = X[int(len(X) * 0.8):]\n",
        "        test_Y = Y[int(len(Y) * 0.8):]\n",
        "\n",
        "        return train_X, train_Y, test_X, test_Y\n",
        "\n",
        "    # split() 값을 정리하기 위한 매서드입니다.\n",
        "    def process_data(self, splt):\n",
        "        # 읽어온 splt 값에서 학교, 성별, 키, 몸무게만 추출합니다.\n",
        "        school = splt[9]\n",
        "        gender = splt[13]\n",
        "        height = float(splt[15]) / 194.2\n",
        "        weight = float(splt[16]) / 130.7\n",
        "\n",
        "        # 완성된 데이터를 저장할 변수입니다.\n",
        "        data = []\n",
        "\n",
        "        # 키와 몸무게를 삽입합니다.\n",
        "        data.append(height)\n",
        "        data.append(weight)\n",
        "\n",
        "        # 성별을 삽입합니다. 남자일 경우 1, 여자일 경우 0을 삽입합니다.\n",
        "        if gender == \"남\":\n",
        "            data.append(1)\n",
        "        else:\n",
        "            data.append(0)\n",
        "\n",
        "        # 초등학교, 중학교, 고등학교 정보를 원 핫 벡터로 정리합니다.\n",
        "        # cls는 레이블 역할을 수행합니다.\n",
        "        if school.endswith(\"초등학교\"):\n",
        "            cls = 0\n",
        "        elif school.endswith(\"중학교\"):\n",
        "            cls = 1\n",
        "        elif school.endswith(\"고등학교\"):\n",
        "            cls = 2\n",
        "\n",
        "        # 결과물을 리턴합니다.\n",
        "        return data, cls\n"
      ],
      "metadata": {
        "id": "OcMG0EBoAd96"
      },
      "execution_count": null,
      "outputs": []
    },
    {
      "cell_type": "code",
      "source": [
        "def draw_graph(history):\n",
        "    train_history = history.history[\"loss\"]\n",
        "    validation_history = history.history[\"val_loss\"]\n",
        "    fig = plt.figure(figsize=(8, 8))\n",
        "    plt.title(\"Loss History\")\n",
        "    plt.xlabel(\"EPOCH\")\n",
        "    plt.ylabel(\"LOSS Function\")\n",
        "    plt.plot(train_history, \"red\")\n",
        "    plt.plot(validation_history, 'blue')\n",
        "    plt.legend(['train', 'validate'])\n",
        "    fig.savefig(\"train_history.png\")\n",
        "\n",
        "    train_history = history.history[\"accuracy\"]\n",
        "    validation_history = history.history[\"val_accuracy\"]\n",
        "    fig = plt.figure(figsize=(8, 8))\n",
        "    plt.title(\"Accuracy History\")\n",
        "    plt.xlabel(\"EPOCH\")\n",
        "    plt.ylabel(\"Accuracy\")\n",
        "    plt.legend(['train', 'validate'])\n",
        "    plt.plot(train_history, \"red\")\n",
        "    plt.plot(validation_history, 'blue')\n",
        "    fig.savefig(\"accuracy_history.png\")\n"
      ],
      "metadata": {
        "id": "jg0pwBliAga5"
      },
      "execution_count": null,
      "outputs": []
    },
    {
      "cell_type": "code",
      "source": [
        "#import data_reader"
      ],
      "metadata": {
        "id": "lCb3zh4UUYxG"
      },
      "execution_count": null,
      "outputs": []
    },
    {
      "cell_type": "code",
      "source": [
        "# 데이터를 읽어옵니다.\n",
        "dr = DataReader()"
      ],
      "metadata": {
        "colab": {
          "base_uri": "https://localhost:8080/"
        },
        "id": "DW6Oja91SZc-",
        "outputId": "0959a0cb-2b0a-49a2-dd52-71665252c94f"
      },
      "execution_count": null,
      "outputs": [
        {
          "output_type": "stream",
          "name": "stdout",
          "text": [
            "\n",
            "\n",
            "Data Read Done!\n",
            "Training X Size : (7745, 3)\n",
            "Training Y Size : (7745,)\n",
            "Test X Size : (1937, 3)\n",
            "Test Y Size : (1937,)\n",
            "\n",
            "\n"
          ]
        }
      ]
    },
    {
      "cell_type": "code",
      "source": [
        "from tensorflow import keras"
      ],
      "metadata": {
        "id": "zinVvwWZSo72"
      },
      "execution_count": null,
      "outputs": []
    },
    {
      "cell_type": "code",
      "source": [
        "EPOCHS = 20  # 예제 기본값은 20입니다."
      ],
      "metadata": {
        "id": "NokB70-LN7Qi"
      },
      "execution_count": null,
      "outputs": []
    },
    {
      "cell_type": "code",
      "source": [
        "# 인공신경망을 제작합니다.\n",
        "model = keras.Sequential([\n",
        "    keras.layers.Dense(3),\n",
        "    keras.layers.Dense(128, activation=\"relu\"),\n",
        "    keras.layers.Dense(3, activation='softmax')\n",
        "])"
      ],
      "metadata": {
        "id": "WmSm2Ho-Shlm"
      },
      "execution_count": null,
      "outputs": []
    },
    {
      "cell_type": "code",
      "source": [
        "# 인공신경망을 컴파일합니다.\n",
        "model.compile(optimizer=\"adam\",\n",
        "              loss=\"sparse_categorical_crossentropy\", #손실함수는 분류함수 \n",
        "              metrics=[\"accuracy\"])"
      ],
      "metadata": {
        "id": "-YBXIgGVSs42"
      },
      "execution_count": null,
      "outputs": []
    },
    {
      "cell_type": "code",
      "source": [
        "# 인공신경망을 학습시킵니다.\n",
        "print(\"************ TRAINING START ************\")\n",
        "early_stop = keras.callbacks.EarlyStopping(monitor='val_loss', patience=10)\n",
        "history = model.fit(dr.train_X, dr.train_Y, epochs=EPOCHS,\n",
        "                    validation_data=(dr.test_X, dr.test_Y),\n",
        "                    callbacks=[early_stop])"
      ],
      "metadata": {
        "colab": {
          "base_uri": "https://localhost:8080/"
        },
        "id": "GpAUy2YASwYP",
        "outputId": "6b4c02cd-3370-4dbe-f1f1-62d6aa526a33"
      },
      "execution_count": null,
      "outputs": [
        {
          "output_type": "stream",
          "name": "stdout",
          "text": [
            "************ TRAINING START ************\n",
            "Epoch 1/20\n",
            "243/243 [==============================] - 2s 3ms/step - loss: 0.9921 - accuracy: 0.5135 - val_loss: 0.8627 - val_accuracy: 0.6402\n",
            "Epoch 2/20\n",
            "243/243 [==============================] - 1s 3ms/step - loss: 0.7782 - accuracy: 0.6691 - val_loss: 0.7144 - val_accuracy: 0.6742\n",
            "Epoch 3/20\n",
            "243/243 [==============================] - 1s 3ms/step - loss: 0.6838 - accuracy: 0.6901 - val_loss: 0.6674 - val_accuracy: 0.6939\n",
            "Epoch 4/20\n",
            "243/243 [==============================] - 1s 2ms/step - loss: 0.6609 - accuracy: 0.6939 - val_loss: 0.6636 - val_accuracy: 0.6815\n",
            "Epoch 5/20\n",
            "243/243 [==============================] - 1s 3ms/step - loss: 0.6507 - accuracy: 0.6952 - val_loss: 0.6482 - val_accuracy: 0.7052\n",
            "Epoch 6/20\n",
            "243/243 [==============================] - 1s 3ms/step - loss: 0.6483 - accuracy: 0.6935 - val_loss: 0.6443 - val_accuracy: 0.6949\n",
            "Epoch 7/20\n",
            "243/243 [==============================] - 1s 3ms/step - loss: 0.6426 - accuracy: 0.6980 - val_loss: 0.6381 - val_accuracy: 0.6959\n",
            "Epoch 8/20\n",
            "243/243 [==============================] - 1s 2ms/step - loss: 0.6403 - accuracy: 0.6934 - val_loss: 0.6396 - val_accuracy: 0.6970\n",
            "Epoch 9/20\n",
            "243/243 [==============================] - 1s 3ms/step - loss: 0.6361 - accuracy: 0.7033 - val_loss: 0.6356 - val_accuracy: 0.6835\n",
            "Epoch 10/20\n",
            "243/243 [==============================] - 1s 3ms/step - loss: 0.6352 - accuracy: 0.6980 - val_loss: 0.6291 - val_accuracy: 0.7016\n",
            "Epoch 11/20\n",
            "243/243 [==============================] - 1s 2ms/step - loss: 0.6302 - accuracy: 0.7041 - val_loss: 0.6274 - val_accuracy: 0.7093\n",
            "Epoch 12/20\n",
            "238/243 [============================>.] - ETA: 0s - loss: 0.6309 - accuracy: 0.7010"
          ]
        }
      ]
    },
    {
      "cell_type": "code",
      "source": [
        "# 학습 결과를 그래프로 출력합니다.\n",
        "draw_graph(history)"
      ],
      "metadata": {
        "colab": {
          "base_uri": "https://localhost:8080/",
          "height": 1000
        },
        "id": "MZt5nEPKSxh-",
        "outputId": "a0494b64-7776-43f7-d793-fc71fcdbfb7e"
      },
      "execution_count": null,
      "outputs": [
        {
          "output_type": "display_data",
          "data": {
            "text/plain": [
              "<Figure size 576x576 with 1 Axes>"
            ],
            "image/png": "[encoded data removed]"
          },
          "metadata": {
            "needs_background": "light"
          }
        },
        {
          "output_type": "display_data",
          "data": {
            "text/plain": [
              "<Figure size 576x576 with 1 Axes>"
            ],
            "image/png": "[encoded data removed]"
          },
          "metadata": {
            "needs_background": "light"
          }
        }
      ]
    }
  ]
}
